{
 "cells": [
  {
   "cell_type": "markdown",
   "id": "sixth-desire",
   "metadata": {},
   "source": [
    "# CyberClick"
   ]
  },
  {
   "cell_type": "markdown",
   "id": "united-roads",
   "metadata": {},
   "source": [
    "## Problema 1. \n",
    "\n",
    "Haz un script, con el lenguaje de programación de tu preferencia, que imprima por\n",
    "pantalla una lista ordenada de números del 1 al 100 sustituyendo los múltiplos de 3\n",
    "por la cadena “cyber”, los múltiplos de 5 por la cadena “click” y los que son múltiplos\n",
    "de 3 y de 5 por “cyberclick”."
   ]
  },
  {
   "cell_type": "code",
   "execution_count": 85,
   "id": "eight-literacy",
   "metadata": {},
   "outputs": [],
   "source": [
    "def es_multiplo(numero, multiplo):\n",
    "    \"\"\"\n",
    "    Devuelve True o False dependiendo de si es multiplo o no\n",
    "    \n",
    "    input:\n",
    "    numero -> el numero que queremos evaluar\n",
    "    multiplo -> el multiplo\n",
    "    \n",
    "    output:\n",
    "    devuelve un booleano con la respuesta\n",
    "    \"\"\"\n",
    "    return not bool(numero%multiplo)"
   ]
  },
  {
   "cell_type": "code",
   "execution_count": 86,
   "id": "grave-navigation",
   "metadata": {},
   "outputs": [],
   "source": [
    "def problema1():      \n",
    "    \"\"\"\n",
    "    Esta función devuelve el resultado del problema 1\n",
    "    \"\"\"\n",
    "    \n",
    "    cadena = list(range(1, 100))\n",
    "    \n",
    "    cadena_nueva = []\n",
    "\n",
    "    for numero in cadena:\n",
    "        \n",
    "        multiplo_de_tres = es_multiplo(numero, 3)\n",
    "        multiplo_de_cinco = es_multiplo(numero, 5)\n",
    "        \n",
    "        if multiplo_de_tres and multiplo_de_cinco:\n",
    "\n",
    "            cadena_nueva.append(\"cyberclick\")\n",
    "\n",
    "        elif multiplo_de_tres:\n",
    "\n",
    "            cadena_nueva.append(\"cyber\")\n",
    "\n",
    "        elif multiplo_de_cinco:  \n",
    "\n",
    "            cadena_nueva.append(\"click\")        \n",
    "\n",
    "        else:\n",
    "\n",
    "            cadena_nueva.append(numero)\n",
    "            \n",
    "    return cadena_nueva"
   ]
  },
  {
   "cell_type": "code",
   "execution_count": 87,
   "id": "beginning-stomach",
   "metadata": {
    "scrolled": true
   },
   "outputs": [
    {
     "data": {
      "text/plain": [
       "[1,\n",
       " 2,\n",
       " 'cyber',\n",
       " 4,\n",
       " 'click',\n",
       " 'cyber',\n",
       " 7,\n",
       " 8,\n",
       " 'cyber',\n",
       " 'click',\n",
       " 11,\n",
       " 'cyber',\n",
       " 13,\n",
       " 14,\n",
       " 'cyberclick',\n",
       " 16,\n",
       " 17,\n",
       " 'cyber',\n",
       " 19,\n",
       " 'click',\n",
       " 'cyber',\n",
       " 22,\n",
       " 23,\n",
       " 'cyber',\n",
       " 'click',\n",
       " 26,\n",
       " 'cyber',\n",
       " 28,\n",
       " 29,\n",
       " 'cyberclick',\n",
       " 31,\n",
       " 32,\n",
       " 'cyber',\n",
       " 34,\n",
       " 'click',\n",
       " 'cyber',\n",
       " 37,\n",
       " 38,\n",
       " 'cyber',\n",
       " 'click',\n",
       " 41,\n",
       " 'cyber',\n",
       " 43,\n",
       " 44,\n",
       " 'cyberclick',\n",
       " 46,\n",
       " 47,\n",
       " 'cyber',\n",
       " 49,\n",
       " 'click',\n",
       " 'cyber',\n",
       " 52,\n",
       " 53,\n",
       " 'cyber',\n",
       " 'click',\n",
       " 56,\n",
       " 'cyber',\n",
       " 58,\n",
       " 59,\n",
       " 'cyberclick',\n",
       " 61,\n",
       " 62,\n",
       " 'cyber',\n",
       " 64,\n",
       " 'click',\n",
       " 'cyber',\n",
       " 67,\n",
       " 68,\n",
       " 'cyber',\n",
       " 'click',\n",
       " 71,\n",
       " 'cyber',\n",
       " 73,\n",
       " 74,\n",
       " 'cyberclick',\n",
       " 76,\n",
       " 77,\n",
       " 'cyber',\n",
       " 79,\n",
       " 'click',\n",
       " 'cyber',\n",
       " 82,\n",
       " 83,\n",
       " 'cyber',\n",
       " 'click',\n",
       " 86,\n",
       " 'cyber',\n",
       " 88,\n",
       " 89,\n",
       " 'cyberclick',\n",
       " 91,\n",
       " 92,\n",
       " 'cyber',\n",
       " 94,\n",
       " 'click',\n",
       " 'cyber',\n",
       " 97,\n",
       " 98,\n",
       " 'cyber']"
      ]
     },
     "execution_count": 87,
     "metadata": {},
     "output_type": "execute_result"
    }
   ],
   "source": [
    "problema1()"
   ]
  },
  {
   "cell_type": "markdown",
   "id": "occupational-employee",
   "metadata": {},
   "source": [
    "## Problema 2. \n",
    "Haz un script que soluciona la siguiente situación:\n",
    "### Primer parte:\n",
    "Imagina que estás en la cola para alquilar un coche, pero no avanza. La persona de la\n",
    "empresa está desesperada… Nadie puede hacer log in en la aplicación! Y preguntan\n",
    "si hay algun developer en la sala. Miras alrededor y eres la única persona que tiene\n",
    "los conocimientos. Te acercas y te comentan el problema:\n",
    "La base de datos de contraseñas parece que está corrupta, algunas de las\n",
    "contraseñas que aparecen listadas no deberían de estar, ya que incumplen la política\n",
    "de empresa respecto contraseñas.\n",
    "Para debugar el problema, han creado una lista de contraseñas guardadas en el\n",
    "sistema corrupto y la política que deben de cumplir esas contraseñas.\n",
    "Por ejemplo:\n",
    "\n",
    "`1-3 a: abcde\n",
    "1-3 b: cdefg\n",
    "2-9 c: ccccccccc`\n",
    "\n",
    "Cada línea representa la política y la contraseña que debe cumplirla. La política de\n",
    "contraseñas indica el número mínimo y el número máximo de veces que se debe repetir la\n",
    "letra que hay a continuación. Así pues, “1-3 a” significa que la contraseña debe de contener\n",
    "la letra “a” un mínimo de 1 y un máximo de 3 veces. Siguiendo esta norma, en el ejemplo\n",
    "anterior hay un total de 2 contraseñas válidas.\n",
    "¿Cuántas contraseñas válidas hay en tu input?"
   ]
  },
  {
   "cell_type": "code",
   "execution_count": 88,
   "id": "formed-water",
   "metadata": {},
   "outputs": [],
   "source": [
    "def test1():\n",
    "    \"\"\"\n",
    "    prueba que el resultado funciona para los ejemplos dados\n",
    "    True -> Pasa el test\n",
    "    \"\"\"\n",
    "    textos = ['1-3 a: abcde','1-3 b: cdefg','2-9 c: ccccccccc']\n",
    "    validez = [True, False, True]\n",
    "    \n",
    "    resultado = validez_politica_lista(textos)\n",
    "\n",
    "    return resultado == validez"
   ]
  },
  {
   "cell_type": "code",
   "execution_count": 89,
   "id": "arranged-montreal",
   "metadata": {},
   "outputs": [],
   "source": [
    "def test2():\n",
    "    \"\"\"\n",
    "    prueba que el resultado funciona para los ejemplos dados\n",
    "    True -> Pasa el test\n",
    "    \"\"\"\n",
    "    textos = ['1-12 a: qbgade','1-3 r: cdefg','2-9 t: cccccsdgscccc']\n",
    "    validez = [True, False, False]\n",
    "    \n",
    "    resultado = validez_politica_lista(textos)\n",
    "\n",
    "    return resultado == validez"
   ]
  },
  {
   "cell_type": "code",
   "execution_count": 108,
   "id": "extended-thong",
   "metadata": {},
   "outputs": [],
   "source": [
    "class Texto_input:\n",
    "    def __init__(self,texto):\n",
    "        \"\"\"\n",
    "        divide el texto en min,max,letra y contraseña\n",
    "        \"\"\"\n",
    "        lista = texto.split(\" \")\n",
    "\n",
    "        numeros = lista[0].split(\"-\")\n",
    "        self.primer_numero = int(numeros[0])\n",
    "        self.segundo_numero = int(numeros[1])\n",
    "        self.letra = lista[1][0]\n",
    "        self.contrasena = lista[2]"
   ]
  },
  {
   "cell_type": "code",
   "execution_count": 91,
   "id": "tropical-bryan",
   "metadata": {},
   "outputs": [],
   "source": [
    "def validez_contrasena(texto_input):\n",
    "    \"\"\"\n",
    "    comprueba si se cumple la política de repetición de una letra entre un minimo y un maximo numero de veces\n",
    "    \"\"\"\n",
    "    minimo = texto_input.primer_numero\n",
    "    maximo = texto_input.segundo_numero \n",
    "    contrasena = texto_input.contrasena\n",
    "    letra = texto_input.letra  \n",
    "    return minimo <= contrasena.count(letra) <= maximo"
   ]
  },
  {
   "cell_type": "code",
   "execution_count": 92,
   "id": "charitable-bacon",
   "metadata": {},
   "outputs": [],
   "source": [
    "def formato_correcto(texto):\n",
    "    \"\"\"\n",
    "    Hace algunas comprobaciones basicas del input\n",
    "    \"\"\"\n",
    "    return texto and texto[0].isnumeric and texto[-1].isalpha() and (\"-\" in texto) and (\":\" in texto)"
   ]
  },
  {
   "cell_type": "code",
   "execution_count": 93,
   "id": "corporate-paris",
   "metadata": {},
   "outputs": [],
   "source": [
    "def validez_politica(texto):\n",
    "    \"\"\"\n",
    "    comprueba la validez de la contraseña respecto a la politica\n",
    "    \"\"\"\n",
    "    return validez_contrasena(Texto_input(texto))  if formato_correcto(texto) else False"
   ]
  },
  {
   "cell_type": "code",
   "execution_count": 94,
   "id": "silver-norfolk",
   "metadata": {},
   "outputs": [],
   "source": [
    "def validez_politica_lista(lista_texto):\n",
    "    \"\"\"\n",
    "    Nos devuelve una lista con los resultados True o False de la validez de la contraseña según la política\n",
    "    \"\"\"\n",
    "    return [validez_politica(texto) for texto in lista_texto]"
   ]
  },
  {
   "cell_type": "markdown",
   "id": "major-cleaning",
   "metadata": {},
   "source": [
    "Mirar que las funciones de test funcionan"
   ]
  },
  {
   "cell_type": "code",
   "execution_count": 95,
   "id": "terminal-surgeon",
   "metadata": {},
   "outputs": [
    {
     "data": {
      "text/plain": [
       "True"
      ]
     },
     "execution_count": 95,
     "metadata": {},
     "output_type": "execute_result"
    }
   ],
   "source": [
    "test1()"
   ]
  },
  {
   "cell_type": "code",
   "execution_count": 96,
   "id": "celtic-letter",
   "metadata": {},
   "outputs": [
    {
     "data": {
      "text/plain": [
       "True"
      ]
     },
     "execution_count": 96,
     "metadata": {},
     "output_type": "execute_result"
    }
   ],
   "source": [
    "test2()"
   ]
  },
  {
   "cell_type": "markdown",
   "id": "ultimate-expense",
   "metadata": {},
   "source": [
    "Probar con el texto de input"
   ]
  },
  {
   "cell_type": "code",
   "execution_count": 97,
   "id": "continuous-correspondence",
   "metadata": {},
   "outputs": [],
   "source": [
    "def cargar_lista():\n",
    "    txt_file = open(\"input.txt\", \"r\")\n",
    "    file_content = txt_file.read()\n",
    "    input_list = file_content.split(\"\\n\")\n",
    "    return input_list"
   ]
  },
  {
   "cell_type": "code",
   "execution_count": 98,
   "id": "studied-addition",
   "metadata": {},
   "outputs": [
    {
     "data": {
      "text/plain": [
       "1001"
      ]
     },
     "execution_count": 98,
     "metadata": {},
     "output_type": "execute_result"
    }
   ],
   "source": [
    "input_list = cargar_lista()\n",
    "len(input_list)"
   ]
  },
  {
   "cell_type": "code",
   "execution_count": 99,
   "id": "located-house",
   "metadata": {},
   "outputs": [],
   "source": [
    "contrasenas_validas = validez_politica_lista(input_list)"
   ]
  },
  {
   "cell_type": "code",
   "execution_count": 100,
   "id": "human-brain",
   "metadata": {
    "scrolled": true
   },
   "outputs": [
    {
     "data": {
      "text/plain": [
       "643"
      ]
     },
     "execution_count": 100,
     "metadata": {},
     "output_type": "execute_result"
    }
   ],
   "source": [
    "sum(contrasenas_validas)"
   ]
  },
  {
   "cell_type": "code",
   "execution_count": 101,
   "id": "illegal-pledge",
   "metadata": {},
   "outputs": [],
   "source": [
    "def problema2():\n",
    "    \"\"\"\n",
    "    Función de resultado del problema 2 parte 1\n",
    "    \"\"\"\n",
    "    return sum(validez_politica_lista(cargar_lista()))"
   ]
  },
  {
   "cell_type": "code",
   "execution_count": 102,
   "id": "diverse-colorado",
   "metadata": {},
   "outputs": [
    {
     "data": {
      "text/plain": [
       "643"
      ]
     },
     "execution_count": 102,
     "metadata": {},
     "output_type": "execute_result"
    }
   ],
   "source": [
    "problema2()"
   ]
  },
  {
   "cell_type": "markdown",
   "id": "nonprofit-cancellation",
   "metadata": {},
   "source": [
    "### Segunda parte:\n",
    "Aparentemente, has validado las contraseñas anteriores de forma correcta, pero el sistema\n",
    "sigue sin recibir lo que espera. La persona del mostrador se da cuenta de su error… Te ha\n",
    "explicado la política de contraseñas de su trabajo anterior!! 🙈.\n",
    "En realidad, la política describe lo siguiente: dos posiciones en la contraseña donde el\n",
    "número indica la posición del carácter (siendo 1 el primero, 2 el segundo… es decir, no hay\n",
    "índice 0). Entonces, exactamente 1 de las dos posiciones que aparecen deben de contener\n",
    "el carácter marcado, otras ocurrencias del carácter son irrelevantes.\n",
    "Entonces:"
   ]
  },
  {
   "cell_type": "markdown",
   "id": "sweet-installation",
   "metadata": {},
   "source": [
    "`1-3 a: abcde es válida: la posición 1 contiene a y la\n",
    "posición 3 no.`\n",
    "\n",
    "`1-3 b: cdefg es no válida: Ni la posición 1 ni la 3\n",
    "contienen el carácter b.`\n",
    "\n",
    "`2-9 c: ccccccccc es no válida. Las dos posiciones 2 y 9\n",
    "contienen el carácter c.`"
   ]
  },
  {
   "cell_type": "markdown",
   "id": "floating-script",
   "metadata": {},
   "source": [
    "Con esta política: ¿Cuántas contraseñas son válidas en el input?"
   ]
  },
  {
   "cell_type": "code",
   "execution_count": 103,
   "id": "ignored-passage",
   "metadata": {},
   "outputs": [],
   "source": [
    "def test_segunda_parte():\n",
    "    \"\"\"\n",
    "    prueba que el resultado funciona para los ejemplos dados\n",
    "    True -> Pasa el test\n",
    "    \"\"\"\n",
    "    textos = ['1-3 a: abcde','1-3 b: cdefg','2-9 c: ccccccccc']\n",
    "    validez = [True, False, False]\n",
    "    \n",
    "    resultado = validez_politica_lista(textos)\n",
    "\n",
    "    return resultado == validez"
   ]
  },
  {
   "cell_type": "markdown",
   "id": "olympic-essence",
   "metadata": {},
   "source": [
    "Redefinimos la funcion validez_contrasena sin tocar las otras"
   ]
  },
  {
   "cell_type": "code",
   "execution_count": 104,
   "id": "utility-elder",
   "metadata": {},
   "outputs": [],
   "source": [
    "def validez_contrasena(texto_input):\n",
    "    \"\"\"\n",
    "    comprueba si se cumple la política de posiciones para la letra establecida\n",
    "    \"\"\"\n",
    "    primer_numero = texto_input.primer_numero\n",
    "    segundo_numero = texto_input.segundo_numero \n",
    "    contrasena = texto_input.contrasena\n",
    "    letra = texto_input.letra \n",
    "    \n",
    "    return (letra in contrasena[primer_numero-1]) ^ (letra in contrasena[segundo_numero-1])"
   ]
  },
  {
   "cell_type": "markdown",
   "id": "permanent-crown",
   "metadata": {},
   "source": [
    "El nuevo test debe ser true y el antiguo false"
   ]
  },
  {
   "cell_type": "code",
   "execution_count": 105,
   "id": "binding-sculpture",
   "metadata": {},
   "outputs": [
    {
     "data": {
      "text/plain": [
       "True"
      ]
     },
     "execution_count": 105,
     "metadata": {},
     "output_type": "execute_result"
    }
   ],
   "source": [
    "test_segunda_parte()"
   ]
  },
  {
   "cell_type": "code",
   "execution_count": 106,
   "id": "distributed-regression",
   "metadata": {},
   "outputs": [
    {
     "data": {
      "text/plain": [
       "False"
      ]
     },
     "execution_count": 106,
     "metadata": {},
     "output_type": "execute_result"
    }
   ],
   "source": [
    "test1()"
   ]
  },
  {
   "cell_type": "markdown",
   "id": "given-thermal",
   "metadata": {},
   "source": [
    "Hacemos de nuevo la prueba"
   ]
  },
  {
   "cell_type": "code",
   "execution_count": 107,
   "id": "quantitative-australia",
   "metadata": {},
   "outputs": [
    {
     "data": {
      "text/plain": [
       "388"
      ]
     },
     "execution_count": 107,
     "metadata": {},
     "output_type": "execute_result"
    }
   ],
   "source": [
    "problema2()"
   ]
  }
 ],
 "metadata": {
  "kernelspec": {
   "display_name": "Python 3 (ipykernel)",
   "language": "python",
   "name": "python3"
  },
  "language_info": {
   "codemirror_mode": {
    "name": "ipython",
    "version": 3
   },
   "file_extension": ".py",
   "mimetype": "text/x-python",
   "name": "python",
   "nbconvert_exporter": "python",
   "pygments_lexer": "ipython3",
   "version": "3.9.5"
  }
 },
 "nbformat": 4,
 "nbformat_minor": 5
}
